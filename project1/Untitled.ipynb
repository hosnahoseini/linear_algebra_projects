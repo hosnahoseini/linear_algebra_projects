{
 "cells": [
  {
   "cell_type": "code",
   "execution_count": 117,
   "id": "2d683acc-9264-4fdf-a078-f5bc34a03050",
   "metadata": {},
   "outputs": [],
   "source": [
    "import numpy as np\n",
    "import copy"
   ]
  },
  {
   "cell_type": "code",
   "execution_count": 118,
   "id": "d11a7edf-6deb-412f-b7db-7daa347cd3ff",
   "metadata": {},
   "outputs": [],
   "source": [
    "def change_row(matrix, row1, row2):\n",
    "    tmp = copy.copy(matrix[row1])\n",
    "    matrix[row1] = matrix[row2]\n",
    "    matrix[row2] = tmp"
   ]
  },
  {
   "cell_type": "code",
   "execution_count": 119,
   "id": "a50f9fe6-a98d-49d0-abbb-e7f3d2d43129",
   "metadata": {},
   "outputs": [],
   "source": [
    "def get_row_multiplied(row, coefficient):\n",
    "    result = []    \n",
    "    for element in row:\n",
    "        result.append(element * coefficient)\n",
    "    return result"
   ]
  },
  {
   "cell_type": "code",
   "execution_count": 120,
   "id": "9ffc6f31-5fb5-49a2-9f07-7aa9b18642c9",
   "metadata": {},
   "outputs": [],
   "source": [
    "\n",
    "argumented = np.array([\n",
    "    [1,  2, -1, 4],\n",
    "    [2, -4, 0, 5.0],\n",
    "])\n",
    "\n",
    "n = argumented.shape[0]\n",
    "m = argumented.shape[1]\n",
    "# float_formatter = \"{:.2f}\".format\n",
    "# np.set_printoptions(formatter={'float_kind':float_formatter})\n",
    "# np.set_printoptions(precision=3)"
   ]
  },
  {
   "cell_type": "code",
   "execution_count": 121,
   "id": "65642037-6771-4064-b39a-27168d38a9ba",
   "metadata": {},
   "outputs": [
    {
     "name": "stdout",
     "output_type": "stream",
     "text": [
      "---------divide to pivot--------\n",
      "[[1.00 2.00 -1.00 4.00]\n",
      " [2.00 -4.00 0.00 5.00]]\n",
      "----make row under pivot zero----\n",
      "[[1.00 2.00 -1.00 4.00]\n",
      " [0.00 -8.00 2.00 -3.00]]\n",
      "---------divide to pivot--------\n",
      "[[1.00 2.00 -1.00 4.00]\n",
      " [-0.00 1.00 -0.25 0.38]]\n"
     ]
    }
   ],
   "source": [
    "lpr = 0\n",
    "pivots = []\n",
    "for column in range(m):\n",
    "    \n",
    "    pivot_founded = False\n",
    "    \n",
    "    # change row if pivot is 0\n",
    "    if abs(argumented[lpr, column]) <= 0.00001:\n",
    "        for row in range(lpr + 1, n):\n",
    "            if argumented[row, column] != 0:\n",
    "                change_row(argumented, lpr, row)\n",
    "                print(\"-----------row change-----------\")\n",
    "                print(argumented)\n",
    "                pivot_founded = True\n",
    "                break\n",
    "        if not pivot_founded:\n",
    "            #this column doesn't have pivot\n",
    "            continue\n",
    "            \n",
    "    pivots.append((lpr, column))\n",
    "    # make pivot one\n",
    "    pivot = argumented[lpr, column]\n",
    "    argumented[lpr] = get_row_multiplied(argumented[lpr], 1 / pivot)\n",
    "    print(\"---------divide to pivot--------\")\n",
    "    print(argumented)\n",
    "    \n",
    "    # make row under pivot zero\n",
    "    for row in range(lpr + 1, n):\n",
    "        argumented[row] += get_row_multiplied(argumented[lpr],-argumented[row, column])\n",
    "        print(\"----make row under pivot zero----\")\n",
    "        print(argumented)\n",
    "        \n",
    "    \n",
    "    if lpr == n-1:\n",
    "        break\n",
    "        \n",
    "    lpr += 1\n",
    "    \n"
   ]
  },
  {
   "cell_type": "code",
   "execution_count": 122,
   "id": "eb95188a-1276-4c18-a0bd-d76a8715436a",
   "metadata": {},
   "outputs": [
    {
     "name": "stdout",
     "output_type": "stream",
     "text": [
      "[(0, 0), (1, 1)]\n"
     ]
    }
   ],
   "source": [
    "print(pivots)"
   ]
  },
  {
   "cell_type": "code",
   "execution_count": 123,
   "id": "647dd33e-56bc-4d65-bf6f-54d4c2736064",
   "metadata": {},
   "outputs": [],
   "source": [
    "pivots = pivots[::-1]\n",
    "for row, column in pivots:\n",
    "    for upper_row in range(row - 1, -1, -1):\n",
    "        argumented[upper_row] += get_row_multiplied(argumented[row],-argumented[upper_row, column])\n",
    "        "
   ]
  },
  {
   "cell_type": "code",
   "execution_count": 124,
   "id": "5c3cecf2-b8d6-4516-ac14-a861c2f929e6",
   "metadata": {},
   "outputs": [
    {
     "name": "stdout",
     "output_type": "stream",
     "text": [
      "[[1.00 0.00 -0.50 3.25]\n",
      " [-0.00 1.00 -0.25 0.38]]\n"
     ]
    }
   ],
   "source": [
    "print(argumented)"
   ]
  },
  {
   "cell_type": "code",
   "execution_count": 125,
   "id": "ecd89f82-b4aa-4657-98e9-5e87e884ff71",
   "metadata": {},
   "outputs": [],
   "source": [
    "x = [10] * (m - 1)"
   ]
  },
  {
   "cell_type": "code",
   "execution_count": 126,
   "id": "ac1067fc-e7e3-4025-ab84-f1acaf2121e7",
   "metadata": {},
   "outputs": [],
   "source": [
    "def find_pivot_position_in_row(pivots, r):\n",
    "    for row, column in pivots:\n",
    "        if(row == r):\n",
    "            return (row, column)"
   ]
  },
  {
   "cell_type": "code",
   "execution_count": 129,
   "id": "20818b4d-46d1-4c05-ad02-924c4a1a8004",
   "metadata": {},
   "outputs": [],
   "source": [
    "for row, column in pivots:\n",
    "    x[column] = 0\n",
    "    for col in range(m - 1):\n",
    "        if column == pivot_position[1]:\n",
    "            continue\n",
    "        x[column] += -x[col] * argumented[row, col]\n",
    "    x[column] += argumented[row, m - 1]"
   ]
  },
  {
   "cell_type": "code",
   "execution_count": 128,
   "id": "ea088026-ff00-4eb9-8289-bc35a5bd6549",
   "metadata": {},
   "outputs": [
    {
     "name": "stdout",
     "output_type": "stream",
     "text": [
      "X1 = 8.25\n",
      "X2 = 2.875\n",
      "X3 = 10\n"
     ]
    }
   ],
   "source": [
    "for indx, variable in enumerate(x):\n",
    "    print(f'X{indx + 1} = {variable}')"
   ]
  },
  {
   "cell_type": "code",
   "execution_count": null,
   "id": "65677a51-85de-48d8-8b35-1b948ec8aa6f",
   "metadata": {},
   "outputs": [],
   "source": []
  },
  {
   "cell_type": "code",
   "execution_count": null,
   "id": "529b80fa-fd2c-48cb-9258-f2b79bdeabef",
   "metadata": {},
   "outputs": [],
   "source": []
  }
 ],
 "metadata": {
  "kernelspec": {
   "display_name": "Python 3",
   "language": "python",
   "name": "python3"
  },
  "language_info": {
   "codemirror_mode": {
    "name": "ipython",
    "version": 3
   },
   "file_extension": ".py",
   "mimetype": "text/x-python",
   "name": "python",
   "nbconvert_exporter": "python",
   "pygments_lexer": "ipython3",
   "version": "3.7.10"
  }
 },
 "nbformat": 4,
 "nbformat_minor": 5
}
